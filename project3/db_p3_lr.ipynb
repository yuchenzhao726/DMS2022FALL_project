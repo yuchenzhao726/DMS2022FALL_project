{
 "cells": [
  {
   "cell_type": "code",
   "execution_count": 2,
   "id": "d570cdd6",
   "metadata": {},
   "outputs": [],
   "source": [
    "import numpy as np \n",
    "import matplotlib.pyplot as plt\n",
    "import pandas as pd"
   ]
  },
  {
   "cell_type": "code",
   "execution_count": 3,
   "id": "5a41b514",
   "metadata": {},
   "outputs": [],
   "source": [
    "from sklearn.linear_model import LogisticRegression\n",
    "from sklearn.preprocessing import StandardScaler\n",
    "from sklearn.preprocessing import MinMaxScaler\n",
    "from  sklearn.metrics import accuracy_score "
   ]
  },
  {
   "cell_type": "code",
   "execution_count": 42,
   "id": "32b43ed7",
   "metadata": {},
   "outputs": [],
   "source": [
    "data = pd.read_csv('/Users/qili/Documents/nyu/courses/db/project/project3/diabetes.csv')"
   ]
  },
  {
   "cell_type": "code",
   "execution_count": 43,
   "id": "4961051f",
   "metadata": {},
   "outputs": [
    {
     "data": {
      "text/plain": [
       "(768, 9)"
      ]
     },
     "execution_count": 43,
     "metadata": {},
     "output_type": "execute_result"
    }
   ],
   "source": [
    "data.shape"
   ]
  },
  {
   "cell_type": "code",
   "execution_count": 44,
   "id": "ebaeb460",
   "metadata": {},
   "outputs": [],
   "source": [
    "train_data = data[0:691]\n",
    "test_data = data[691:]"
   ]
  },
  {
   "cell_type": "code",
   "execution_count": 45,
   "id": "e0447faf",
   "metadata": {},
   "outputs": [
    {
     "data": {
      "text/plain": [
       "(77, 9)"
      ]
     },
     "execution_count": 45,
     "metadata": {},
     "output_type": "execute_result"
    }
   ],
   "source": [
    "test_data.shape"
   ]
  },
  {
   "cell_type": "code",
   "execution_count": 46,
   "id": "7bea2a36",
   "metadata": {},
   "outputs": [
    {
     "data": {
      "text/html": [
       "<div>\n",
       "<style scoped>\n",
       "    .dataframe tbody tr th:only-of-type {\n",
       "        vertical-align: middle;\n",
       "    }\n",
       "\n",
       "    .dataframe tbody tr th {\n",
       "        vertical-align: top;\n",
       "    }\n",
       "\n",
       "    .dataframe thead th {\n",
       "        text-align: right;\n",
       "    }\n",
       "</style>\n",
       "<table border=\"1\" class=\"dataframe\">\n",
       "  <thead>\n",
       "    <tr style=\"text-align: right;\">\n",
       "      <th></th>\n",
       "      <th>Pregnancies</th>\n",
       "      <th>Glucose</th>\n",
       "      <th>BloodPressure</th>\n",
       "      <th>SkinThickness</th>\n",
       "      <th>Insulin</th>\n",
       "      <th>BMI</th>\n",
       "      <th>DiabetesPedigreeFunction</th>\n",
       "      <th>Age</th>\n",
       "      <th>Outcome</th>\n",
       "    </tr>\n",
       "  </thead>\n",
       "  <tbody>\n",
       "    <tr>\n",
       "      <th>691</th>\n",
       "      <td>13</td>\n",
       "      <td>158</td>\n",
       "      <td>114</td>\n",
       "      <td>0</td>\n",
       "      <td>0</td>\n",
       "      <td>42.3</td>\n",
       "      <td>0.257</td>\n",
       "      <td>44</td>\n",
       "      <td>1</td>\n",
       "    </tr>\n",
       "    <tr>\n",
       "      <th>692</th>\n",
       "      <td>2</td>\n",
       "      <td>121</td>\n",
       "      <td>70</td>\n",
       "      <td>32</td>\n",
       "      <td>95</td>\n",
       "      <td>39.1</td>\n",
       "      <td>0.886</td>\n",
       "      <td>23</td>\n",
       "      <td>0</td>\n",
       "    </tr>\n",
       "    <tr>\n",
       "      <th>693</th>\n",
       "      <td>7</td>\n",
       "      <td>129</td>\n",
       "      <td>68</td>\n",
       "      <td>49</td>\n",
       "      <td>125</td>\n",
       "      <td>38.5</td>\n",
       "      <td>0.439</td>\n",
       "      <td>43</td>\n",
       "      <td>1</td>\n",
       "    </tr>\n",
       "    <tr>\n",
       "      <th>694</th>\n",
       "      <td>2</td>\n",
       "      <td>90</td>\n",
       "      <td>60</td>\n",
       "      <td>0</td>\n",
       "      <td>0</td>\n",
       "      <td>23.5</td>\n",
       "      <td>0.191</td>\n",
       "      <td>25</td>\n",
       "      <td>0</td>\n",
       "    </tr>\n",
       "    <tr>\n",
       "      <th>695</th>\n",
       "      <td>7</td>\n",
       "      <td>142</td>\n",
       "      <td>90</td>\n",
       "      <td>24</td>\n",
       "      <td>480</td>\n",
       "      <td>30.4</td>\n",
       "      <td>0.128</td>\n",
       "      <td>43</td>\n",
       "      <td>1</td>\n",
       "    </tr>\n",
       "    <tr>\n",
       "      <th>...</th>\n",
       "      <td>...</td>\n",
       "      <td>...</td>\n",
       "      <td>...</td>\n",
       "      <td>...</td>\n",
       "      <td>...</td>\n",
       "      <td>...</td>\n",
       "      <td>...</td>\n",
       "      <td>...</td>\n",
       "      <td>...</td>\n",
       "    </tr>\n",
       "    <tr>\n",
       "      <th>763</th>\n",
       "      <td>10</td>\n",
       "      <td>101</td>\n",
       "      <td>76</td>\n",
       "      <td>48</td>\n",
       "      <td>180</td>\n",
       "      <td>32.9</td>\n",
       "      <td>0.171</td>\n",
       "      <td>63</td>\n",
       "      <td>0</td>\n",
       "    </tr>\n",
       "    <tr>\n",
       "      <th>764</th>\n",
       "      <td>2</td>\n",
       "      <td>122</td>\n",
       "      <td>70</td>\n",
       "      <td>27</td>\n",
       "      <td>0</td>\n",
       "      <td>36.8</td>\n",
       "      <td>0.340</td>\n",
       "      <td>27</td>\n",
       "      <td>0</td>\n",
       "    </tr>\n",
       "    <tr>\n",
       "      <th>765</th>\n",
       "      <td>5</td>\n",
       "      <td>121</td>\n",
       "      <td>72</td>\n",
       "      <td>23</td>\n",
       "      <td>112</td>\n",
       "      <td>26.2</td>\n",
       "      <td>0.245</td>\n",
       "      <td>30</td>\n",
       "      <td>0</td>\n",
       "    </tr>\n",
       "    <tr>\n",
       "      <th>766</th>\n",
       "      <td>1</td>\n",
       "      <td>126</td>\n",
       "      <td>60</td>\n",
       "      <td>0</td>\n",
       "      <td>0</td>\n",
       "      <td>30.1</td>\n",
       "      <td>0.349</td>\n",
       "      <td>47</td>\n",
       "      <td>1</td>\n",
       "    </tr>\n",
       "    <tr>\n",
       "      <th>767</th>\n",
       "      <td>1</td>\n",
       "      <td>93</td>\n",
       "      <td>70</td>\n",
       "      <td>31</td>\n",
       "      <td>0</td>\n",
       "      <td>30.4</td>\n",
       "      <td>0.315</td>\n",
       "      <td>23</td>\n",
       "      <td>0</td>\n",
       "    </tr>\n",
       "  </tbody>\n",
       "</table>\n",
       "<p>77 rows × 9 columns</p>\n",
       "</div>"
      ],
      "text/plain": [
       "     Pregnancies  Glucose  BloodPressure  SkinThickness  Insulin   BMI  \\\n",
       "691           13      158            114              0        0  42.3   \n",
       "692            2      121             70             32       95  39.1   \n",
       "693            7      129             68             49      125  38.5   \n",
       "694            2       90             60              0        0  23.5   \n",
       "695            7      142             90             24      480  30.4   \n",
       "..           ...      ...            ...            ...      ...   ...   \n",
       "763           10      101             76             48      180  32.9   \n",
       "764            2      122             70             27        0  36.8   \n",
       "765            5      121             72             23      112  26.2   \n",
       "766            1      126             60              0        0  30.1   \n",
       "767            1       93             70             31        0  30.4   \n",
       "\n",
       "     DiabetesPedigreeFunction  Age  Outcome  \n",
       "691                     0.257   44        1  \n",
       "692                     0.886   23        0  \n",
       "693                     0.439   43        1  \n",
       "694                     0.191   25        0  \n",
       "695                     0.128   43        1  \n",
       "..                        ...  ...      ...  \n",
       "763                     0.171   63        0  \n",
       "764                     0.340   27        0  \n",
       "765                     0.245   30        0  \n",
       "766                     0.349   47        1  \n",
       "767                     0.315   23        0  \n",
       "\n",
       "[77 rows x 9 columns]"
      ]
     },
     "execution_count": 46,
     "metadata": {},
     "output_type": "execute_result"
    }
   ],
   "source": [
    "test_data"
   ]
  },
  {
   "cell_type": "code",
   "execution_count": 102,
   "id": "61b1f5b3",
   "metadata": {},
   "outputs": [],
   "source": [
    "#original features"
   ]
  },
  {
   "cell_type": "code",
   "execution_count": 386,
   "id": "c89cf166",
   "metadata": {},
   "outputs": [],
   "source": [
    "feature_Preg_orig_train_f = (train_data[\"Pregnancies\"]-train_data[\"Pregnancies\"].mean())/train_data[\"Pregnancies\"].std()"
   ]
  },
  {
   "cell_type": "code",
   "execution_count": 82,
   "id": "ffebf987",
   "metadata": {},
   "outputs": [],
   "source": [
    "feature_Preg_orig_test_f = (test_data[\"Pregnancies\"]-train_data[\"Pregnancies\"].mean())/train_data[\"Pregnancies\"].std()"
   ]
  },
  {
   "cell_type": "code",
   "execution_count": 83,
   "id": "7ad1fdc8",
   "metadata": {},
   "outputs": [],
   "source": [
    "feature_Glucose_orig_train_f = (train_data[\"Glucose\"]-train_data[\"Glucose\"].mean())/train_data[\"Glucose\"].std()"
   ]
  },
  {
   "cell_type": "code",
   "execution_count": 84,
   "id": "d479c13f",
   "metadata": {},
   "outputs": [],
   "source": [
    "feature_Glucose_orig_test_f = (test_data[\"Glucose\"]-train_data[\"Glucose\"].mean())/train_data[\"Glucose\"].std()"
   ]
  },
  {
   "cell_type": "code",
   "execution_count": 85,
   "id": "8a5eedff",
   "metadata": {},
   "outputs": [],
   "source": [
    "feature_Blood_orig_train_f = (train_data[\"BloodPressure\"]-train_data[\"BloodPressure\"].mean())/train_data[\"BloodPressure\"].std()"
   ]
  },
  {
   "cell_type": "code",
   "execution_count": 86,
   "id": "dfc7b6b3",
   "metadata": {},
   "outputs": [],
   "source": [
    "feature_Blood_orig_test_f = (test_data[\"BloodPressure\"]-train_data[\"BloodPressure\"].mean())/train_data[\"BloodPressure\"].std()"
   ]
  },
  {
   "cell_type": "code",
   "execution_count": 87,
   "id": "b0068a15",
   "metadata": {},
   "outputs": [],
   "source": [
    "feature_Skin_orig_train_f = (train_data[\"SkinThickness\"]-train_data[\"SkinThickness\"].mean())/train_data[\"SkinThickness\"].std()"
   ]
  },
  {
   "cell_type": "code",
   "execution_count": 88,
   "id": "01ad3f2d",
   "metadata": {},
   "outputs": [],
   "source": [
    "feature_Skin_orig_test_f = (test_data[\"SkinThickness\"]-train_data[\"SkinThickness\"].mean())/train_data[\"SkinThickness\"].std()"
   ]
  },
  {
   "cell_type": "code",
   "execution_count": 89,
   "id": "da14713d",
   "metadata": {},
   "outputs": [],
   "source": [
    "feature_Insulin_orig_train_f = (train_data[\"Insulin\"]-train_data[\"Insulin\"].mean())/train_data[\"Insulin\"].std()"
   ]
  },
  {
   "cell_type": "code",
   "execution_count": 90,
   "id": "665cc7fb",
   "metadata": {},
   "outputs": [],
   "source": [
    "feature_Insulin_orig_test_f = (test_data[\"Insulin\"]-train_data[\"Insulin\"].mean())/train_data[\"Insulin\"].std()"
   ]
  },
  {
   "cell_type": "code",
   "execution_count": 91,
   "id": "6d1badae",
   "metadata": {},
   "outputs": [],
   "source": [
    "feature_BMI_orig_train_f = (train_data[\"BMI\"]-train_data[\"BMI\"].mean())/train_data[\"BMI\"].std()"
   ]
  },
  {
   "cell_type": "code",
   "execution_count": 92,
   "id": "54527b12",
   "metadata": {},
   "outputs": [],
   "source": [
    "feature_BMI_orig_test_f = (test_data[\"BMI\"]-train_data[\"BMI\"].mean())/train_data[\"BMI\"].std()"
   ]
  },
  {
   "cell_type": "code",
   "execution_count": 93,
   "id": "c059e6e9",
   "metadata": {},
   "outputs": [],
   "source": [
    "feature_Func_orig_train_f = train_data[\"DiabetesPedigreeFunction\"]"
   ]
  },
  {
   "cell_type": "code",
   "execution_count": 94,
   "id": "cf574333",
   "metadata": {},
   "outputs": [],
   "source": [
    "feature_Func_orig_test_f = test_data[\"DiabetesPedigreeFunction\"]"
   ]
  },
  {
   "cell_type": "code",
   "execution_count": null,
   "id": "686198b6",
   "metadata": {},
   "outputs": [],
   "source": [
    "# one_hot features"
   ]
  },
  {
   "cell_type": "code",
   "execution_count": 103,
   "id": "3218db6a",
   "metadata": {},
   "outputs": [],
   "source": [
    "def age_map(x):\n",
    "    if x >= 0 and x <= 10:\n",
    "        return 1\n",
    "    elif x >= 11 and x <= 20:\n",
    "        return 2\n",
    "    elif x >= 21 and x <= 30:\n",
    "        return 3\n",
    "    elif x >= 31 and x <= 40:\n",
    "        return 4\n",
    "    elif x >= 41 and x <= 50:\n",
    "        return 5\n",
    "    elif x >= 51 and x <= 60:\n",
    "        return 6\n",
    "    elif x >= 61 and x <= 70:\n",
    "        return 7\n",
    "    elif x >= 71 and x <= 80:\n",
    "        return 8\n",
    "    elif x >= 81 and x <= 90:\n",
    "        return 9\n",
    "    elif x >= 91 and x <= 100:\n",
    "        return 10\n",
    "    else :\n",
    "        return 11"
   ]
  },
  {
   "cell_type": "code",
   "execution_count": 115,
   "id": "5399888c",
   "metadata": {},
   "outputs": [],
   "source": [
    "all_age_level = data[\"Age\"].map(age_map)\n",
    "all_age = pd.get_dummies(all_age_level, prefix= 'age')\n",
    "train_data_age = all_age[0:691]\n",
    "test_data_age = all_age[691:]"
   ]
  },
  {
   "cell_type": "code",
   "execution_count": null,
   "id": "631922e6",
   "metadata": {},
   "outputs": [],
   "source": [
    "#statistical features"
   ]
  },
  {
   "cell_type": "code",
   "execution_count": 498,
   "id": "4d32bbf7",
   "metadata": {},
   "outputs": [],
   "source": [
    "age_prob = pd.concat([all_age_level[0:691], data[\"Outcome\"][0:691]], axis = 1).groupby(['Age']).sum([\"Outcome\"])/691"
   ]
  },
  {
   "cell_type": "code",
   "execution_count": 499,
   "id": "6e7a4398",
   "metadata": {},
   "outputs": [
    {
     "data": {
      "text/html": [
       "<div>\n",
       "<style scoped>\n",
       "    .dataframe tbody tr th:only-of-type {\n",
       "        vertical-align: middle;\n",
       "    }\n",
       "\n",
       "    .dataframe tbody tr th {\n",
       "        vertical-align: top;\n",
       "    }\n",
       "\n",
       "    .dataframe thead th {\n",
       "        text-align: right;\n",
       "    }\n",
       "</style>\n",
       "<table border=\"1\" class=\"dataframe\">\n",
       "  <thead>\n",
       "    <tr style=\"text-align: right;\">\n",
       "      <th></th>\n",
       "      <th>Outcome</th>\n",
       "    </tr>\n",
       "    <tr>\n",
       "      <th>Age</th>\n",
       "      <th></th>\n",
       "    </tr>\n",
       "  </thead>\n",
       "  <tbody>\n",
       "    <tr>\n",
       "      <th>3</th>\n",
       "      <td>0.120116</td>\n",
       "    </tr>\n",
       "    <tr>\n",
       "      <th>4</th>\n",
       "      <td>0.099855</td>\n",
       "    </tr>\n",
       "    <tr>\n",
       "      <th>5</th>\n",
       "      <td>0.073806</td>\n",
       "    </tr>\n",
       "    <tr>\n",
       "      <th>6</th>\n",
       "      <td>0.040521</td>\n",
       "    </tr>\n",
       "    <tr>\n",
       "      <th>7</th>\n",
       "      <td>0.008683</td>\n",
       "    </tr>\n",
       "    <tr>\n",
       "      <th>8</th>\n",
       "      <td>0.000000</td>\n",
       "    </tr>\n",
       "    <tr>\n",
       "      <th>9</th>\n",
       "      <td>0.000000</td>\n",
       "    </tr>\n",
       "  </tbody>\n",
       "</table>\n",
       "</div>"
      ],
      "text/plain": [
       "      Outcome\n",
       "Age          \n",
       "3    0.120116\n",
       "4    0.099855\n",
       "5    0.073806\n",
       "6    0.040521\n",
       "7    0.008683\n",
       "8    0.000000\n",
       "9    0.000000"
      ]
     },
     "execution_count": 499,
     "metadata": {},
     "output_type": "execute_result"
    }
   ],
   "source": [
    "age_prob"
   ]
  },
  {
   "cell_type": "code",
   "execution_count": 500,
   "id": "ec03d863",
   "metadata": {},
   "outputs": [
    {
     "data": {
      "text/html": [
       "<div>\n",
       "<style scoped>\n",
       "    .dataframe tbody tr th:only-of-type {\n",
       "        vertical-align: middle;\n",
       "    }\n",
       "\n",
       "    .dataframe tbody tr th {\n",
       "        vertical-align: top;\n",
       "    }\n",
       "\n",
       "    .dataframe thead th {\n",
       "        text-align: right;\n",
       "    }\n",
       "</style>\n",
       "<table border=\"1\" class=\"dataframe\">\n",
       "  <thead>\n",
       "    <tr style=\"text-align: right;\">\n",
       "      <th></th>\n",
       "      <th>Age</th>\n",
       "    </tr>\n",
       "  </thead>\n",
       "  <tbody>\n",
       "    <tr>\n",
       "      <th>0</th>\n",
       "      <td>5</td>\n",
       "    </tr>\n",
       "    <tr>\n",
       "      <th>1</th>\n",
       "      <td>4</td>\n",
       "    </tr>\n",
       "    <tr>\n",
       "      <th>2</th>\n",
       "      <td>4</td>\n",
       "    </tr>\n",
       "    <tr>\n",
       "      <th>3</th>\n",
       "      <td>3</td>\n",
       "    </tr>\n",
       "    <tr>\n",
       "      <th>4</th>\n",
       "      <td>4</td>\n",
       "    </tr>\n",
       "    <tr>\n",
       "      <th>...</th>\n",
       "      <td>...</td>\n",
       "    </tr>\n",
       "    <tr>\n",
       "      <th>686</th>\n",
       "      <td>3</td>\n",
       "    </tr>\n",
       "    <tr>\n",
       "      <th>687</th>\n",
       "      <td>3</td>\n",
       "    </tr>\n",
       "    <tr>\n",
       "      <th>688</th>\n",
       "      <td>3</td>\n",
       "    </tr>\n",
       "    <tr>\n",
       "      <th>689</th>\n",
       "      <td>5</td>\n",
       "    </tr>\n",
       "    <tr>\n",
       "      <th>690</th>\n",
       "      <td>4</td>\n",
       "    </tr>\n",
       "  </tbody>\n",
       "</table>\n",
       "<p>691 rows × 1 columns</p>\n",
       "</div>"
      ],
      "text/plain": [
       "     Age\n",
       "0      5\n",
       "1      4\n",
       "2      4\n",
       "3      3\n",
       "4      4\n",
       "..   ...\n",
       "686    3\n",
       "687    3\n",
       "688    3\n",
       "689    5\n",
       "690    4\n",
       "\n",
       "[691 rows x 1 columns]"
      ]
     },
     "execution_count": 500,
     "metadata": {},
     "output_type": "execute_result"
    }
   ],
   "source": [
    "train_age_frame = all_age_level[0:691].to_frame()\n",
    "train_age_frame"
   ]
  },
  {
   "cell_type": "code",
   "execution_count": 501,
   "id": "49522124",
   "metadata": {},
   "outputs": [
    {
     "data": {
      "text/html": [
       "<div>\n",
       "<style scoped>\n",
       "    .dataframe tbody tr th:only-of-type {\n",
       "        vertical-align: middle;\n",
       "    }\n",
       "\n",
       "    .dataframe tbody tr th {\n",
       "        vertical-align: top;\n",
       "    }\n",
       "\n",
       "    .dataframe thead th {\n",
       "        text-align: right;\n",
       "    }\n",
       "</style>\n",
       "<table border=\"1\" class=\"dataframe\">\n",
       "  <thead>\n",
       "    <tr style=\"text-align: right;\">\n",
       "      <th></th>\n",
       "      <th>Age</th>\n",
       "      <th>Outcome</th>\n",
       "    </tr>\n",
       "  </thead>\n",
       "  <tbody>\n",
       "    <tr>\n",
       "      <th>0</th>\n",
       "      <td>5</td>\n",
       "      <td>0.073806</td>\n",
       "    </tr>\n",
       "    <tr>\n",
       "      <th>1</th>\n",
       "      <td>4</td>\n",
       "      <td>0.099855</td>\n",
       "    </tr>\n",
       "    <tr>\n",
       "      <th>2</th>\n",
       "      <td>4</td>\n",
       "      <td>0.099855</td>\n",
       "    </tr>\n",
       "    <tr>\n",
       "      <th>3</th>\n",
       "      <td>3</td>\n",
       "      <td>0.120116</td>\n",
       "    </tr>\n",
       "    <tr>\n",
       "      <th>4</th>\n",
       "      <td>4</td>\n",
       "      <td>0.099855</td>\n",
       "    </tr>\n",
       "    <tr>\n",
       "      <th>...</th>\n",
       "      <td>...</td>\n",
       "      <td>...</td>\n",
       "    </tr>\n",
       "    <tr>\n",
       "      <th>686</th>\n",
       "      <td>3</td>\n",
       "      <td>0.120116</td>\n",
       "    </tr>\n",
       "    <tr>\n",
       "      <th>687</th>\n",
       "      <td>3</td>\n",
       "      <td>0.120116</td>\n",
       "    </tr>\n",
       "    <tr>\n",
       "      <th>688</th>\n",
       "      <td>3</td>\n",
       "      <td>0.120116</td>\n",
       "    </tr>\n",
       "    <tr>\n",
       "      <th>689</th>\n",
       "      <td>5</td>\n",
       "      <td>0.073806</td>\n",
       "    </tr>\n",
       "    <tr>\n",
       "      <th>690</th>\n",
       "      <td>4</td>\n",
       "      <td>0.099855</td>\n",
       "    </tr>\n",
       "  </tbody>\n",
       "</table>\n",
       "<p>691 rows × 2 columns</p>\n",
       "</div>"
      ],
      "text/plain": [
       "     Age   Outcome\n",
       "0      5  0.073806\n",
       "1      4  0.099855\n",
       "2      4  0.099855\n",
       "3      3  0.120116\n",
       "4      4  0.099855\n",
       "..   ...       ...\n",
       "686    3  0.120116\n",
       "687    3  0.120116\n",
       "688    3  0.120116\n",
       "689    5  0.073806\n",
       "690    4  0.099855\n",
       "\n",
       "[691 rows x 2 columns]"
      ]
     },
     "execution_count": 501,
     "metadata": {},
     "output_type": "execute_result"
    }
   ],
   "source": [
    "train_age_prob = train_age_frame.join(age_prob, on =\"Age\")\n",
    "train_age_prob"
   ]
  },
  {
   "cell_type": "code",
   "execution_count": 502,
   "id": "90a6d99d",
   "metadata": {},
   "outputs": [
    {
     "data": {
      "text/html": [
       "<div>\n",
       "<style scoped>\n",
       "    .dataframe tbody tr th:only-of-type {\n",
       "        vertical-align: middle;\n",
       "    }\n",
       "\n",
       "    .dataframe tbody tr th {\n",
       "        vertical-align: top;\n",
       "    }\n",
       "\n",
       "    .dataframe thead th {\n",
       "        text-align: right;\n",
       "    }\n",
       "</style>\n",
       "<table border=\"1\" class=\"dataframe\">\n",
       "  <thead>\n",
       "    <tr style=\"text-align: right;\">\n",
       "      <th></th>\n",
       "      <th>Age</th>\n",
       "      <th>Outcome</th>\n",
       "    </tr>\n",
       "  </thead>\n",
       "  <tbody>\n",
       "    <tr>\n",
       "      <th>691</th>\n",
       "      <td>5</td>\n",
       "      <td>0.073806</td>\n",
       "    </tr>\n",
       "    <tr>\n",
       "      <th>692</th>\n",
       "      <td>3</td>\n",
       "      <td>0.120116</td>\n",
       "    </tr>\n",
       "    <tr>\n",
       "      <th>693</th>\n",
       "      <td>5</td>\n",
       "      <td>0.073806</td>\n",
       "    </tr>\n",
       "    <tr>\n",
       "      <th>694</th>\n",
       "      <td>3</td>\n",
       "      <td>0.120116</td>\n",
       "    </tr>\n",
       "    <tr>\n",
       "      <th>695</th>\n",
       "      <td>5</td>\n",
       "      <td>0.073806</td>\n",
       "    </tr>\n",
       "    <tr>\n",
       "      <th>...</th>\n",
       "      <td>...</td>\n",
       "      <td>...</td>\n",
       "    </tr>\n",
       "    <tr>\n",
       "      <th>763</th>\n",
       "      <td>7</td>\n",
       "      <td>0.008683</td>\n",
       "    </tr>\n",
       "    <tr>\n",
       "      <th>764</th>\n",
       "      <td>3</td>\n",
       "      <td>0.120116</td>\n",
       "    </tr>\n",
       "    <tr>\n",
       "      <th>765</th>\n",
       "      <td>3</td>\n",
       "      <td>0.120116</td>\n",
       "    </tr>\n",
       "    <tr>\n",
       "      <th>766</th>\n",
       "      <td>5</td>\n",
       "      <td>0.073806</td>\n",
       "    </tr>\n",
       "    <tr>\n",
       "      <th>767</th>\n",
       "      <td>3</td>\n",
       "      <td>0.120116</td>\n",
       "    </tr>\n",
       "  </tbody>\n",
       "</table>\n",
       "<p>77 rows × 2 columns</p>\n",
       "</div>"
      ],
      "text/plain": [
       "     Age   Outcome\n",
       "691    5  0.073806\n",
       "692    3  0.120116\n",
       "693    5  0.073806\n",
       "694    3  0.120116\n",
       "695    5  0.073806\n",
       "..   ...       ...\n",
       "763    7  0.008683\n",
       "764    3  0.120116\n",
       "765    3  0.120116\n",
       "766    5  0.073806\n",
       "767    3  0.120116\n",
       "\n",
       "[77 rows x 2 columns]"
      ]
     },
     "execution_count": 502,
     "metadata": {},
     "output_type": "execute_result"
    }
   ],
   "source": [
    "test_age_frame = all_age_level[691:].to_frame()\n",
    "test_age_prob = test_age_frame.join(age_prob, on =\"Age\").fillna(0)\n",
    "test_age_prob"
   ]
  },
  {
   "cell_type": "code",
   "execution_count": 503,
   "id": "b270a1bd",
   "metadata": {},
   "outputs": [],
   "source": [
    "feature_train = pd.concat([feature_Preg_orig_train_f, feature_Glucose_orig_train_f, feature_Blood_orig_train_f, \n",
    "                           feature_Skin_orig_train_f, feature_Insulin_orig_train_f, feature_BMI_orig_train_f,\n",
    "                           feature_Func_orig_train_f, train_age_prob\n",
    "                          ],  axis=1)\n",
    "feature_test = pd.concat([feature_Preg_orig_test_f, feature_Glucose_orig_test_f, feature_Blood_orig_test_f,\n",
    "                          feature_Skin_orig_test_f, feature_Insulin_orig_test_f, feature_BMI_orig_test_f,\n",
    "                          feature_Func_orig_test_f, test_age_prob\n",
    "                         ],  axis=1)\n"
   ]
  },
  {
   "cell_type": "code",
   "execution_count": 504,
   "id": "3775f54a",
   "metadata": {},
   "outputs": [],
   "source": [
    "y_train = data[\"Outcome\"][0:691]\n",
    "y_test = data[\"Outcome\"][691:]"
   ]
  },
  {
   "cell_type": "code",
   "execution_count": 505,
   "id": "7109edfa",
   "metadata": {},
   "outputs": [
    {
     "data": {
      "text/plain": [
       "(691,)"
      ]
     },
     "execution_count": 505,
     "metadata": {},
     "output_type": "execute_result"
    }
   ],
   "source": [
    "y_train.shape"
   ]
  },
  {
   "cell_type": "code",
   "execution_count": 506,
   "id": "5e42257b",
   "metadata": {},
   "outputs": [],
   "source": [
    "model = LogisticRegression(random_state=0).fit(feature_train, y_train)"
   ]
  },
  {
   "cell_type": "code",
   "execution_count": 507,
   "id": "fdfe4eeb",
   "metadata": {},
   "outputs": [],
   "source": [
    "y_pred_test = model.predict(feature_test)"
   ]
  },
  {
   "cell_type": "code",
   "execution_count": 508,
   "id": "4a4d6cd4",
   "metadata": {},
   "outputs": [],
   "source": [
    "y_pred_train = model.predict(feature_train)"
   ]
  },
  {
   "cell_type": "code",
   "execution_count": 509,
   "id": "3696f297",
   "metadata": {},
   "outputs": [
    {
     "data": {
      "text/plain": [
       "0.7829232995658466"
      ]
     },
     "execution_count": 509,
     "metadata": {},
     "output_type": "execute_result"
    }
   ],
   "source": [
    "accuracy_score(y_train, y_pred_train)"
   ]
  },
  {
   "cell_type": "code",
   "execution_count": 510,
   "id": "02af8651",
   "metadata": {},
   "outputs": [
    {
     "data": {
      "text/plain": [
       "0.8051948051948052"
      ]
     },
     "execution_count": 510,
     "metadata": {},
     "output_type": "execute_result"
    }
   ],
   "source": [
    "accuracy_score(y_test, y_pred_test)"
   ]
  },
  {
   "cell_type": "code",
   "execution_count": 460,
   "id": "8e0b7cae",
   "metadata": {},
   "outputs": [
    {
     "name": "stdout",
     "output_type": "stream",
     "text": [
      "[[ 0.49658956  1.09590537 -0.24009722  0.00650061 -0.12891422  0.7484128\n",
      "   0.92264111]]\n"
     ]
    }
   ],
   "source": [
    "print(model.coef_)"
   ]
  },
  {
   "cell_type": "code",
   "execution_count": null,
   "id": "b2246e1c",
   "metadata": {},
   "outputs": [],
   "source": []
  }
 ],
 "metadata": {
  "kernelspec": {
   "display_name": "Python 3 (ipykernel)",
   "language": "python",
   "name": "python3"
  },
  "language_info": {
   "codemirror_mode": {
    "name": "ipython",
    "version": 3
   },
   "file_extension": ".py",
   "mimetype": "text/x-python",
   "name": "python",
   "nbconvert_exporter": "python",
   "pygments_lexer": "ipython3",
   "version": "3.9.12"
  }
 },
 "nbformat": 4,
 "nbformat_minor": 5
}
